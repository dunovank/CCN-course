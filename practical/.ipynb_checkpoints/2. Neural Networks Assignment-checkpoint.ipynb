{
 "cells": [
  {
   "cell_type": "markdown",
   "metadata": {
    "slideshow": {
     "slide_type": "-"
    }
   },
   "source": [
    "In this practical assignment you will learn how to work with neural networks. Various neural network packages are available in Python of which Google's TensorFlow is quite famous. We will use Chainer, which is another flexible neural network package.\n",
    "\n",
    "Your code will be evaluated on clarity, conciseness and efficiency. Document your code. The resulting notebook including the required outputs should be converted to pdf and uploaded to Blackboard. Comments can be added in the notebook using markdown cells. Note that for code development you may want to use the PyCharm IDE, which facilitates debugging."
   ]
  },
  {
   "cell_type": "markdown",
   "metadata": {},
   "source": [
    "### Assignment 1\n",
    "\n",
    "Go to the tutorial page for Chainer:\n",
    "\n",
    "http://docs.chainer.org/en/stable/tutorial/basic.html\n",
    "\n",
    "Implement <i>Example: Multi-layer Perceptron on MNIST</i>. You will train a model that learns to predict the label of a handwritten character based on the pixel input. \n",
    "\n",
    "Report the accuracy obtained after 20 epochs. Provide a motivated conclusion about the performance of the model."
   ]
  },
  {
   "cell_type": "markdown",
   "metadata": {},
   "source": [
    "### Assignment 2\n",
    "\n",
    "In this assignment you will run the exact same model but now for a problem where we predict fMRI BOLD responses as people are shown handwritten digits (6 versus 9) in an MRI scanner. Data can be downloaded here:\n",
    "\n",
    "https://drive.google.com/file/d/0B-sN_eJ65cGUbmcwTm1hVWhueUE/edit?usp=sharing\n",
    "\n",
    "Note that you need to adapt the code slightly since we are now dealing with a regression problem from pixels onto BOLD responses (actually single trial beta estimates). That is, create a Regressor class to replace the Classifier class. Use mean squared error as an error function.\n",
    "\n",
    "Report the mean squared error on the validation data after running the model for 500 epochs. Provide a motivated conclusion about the performance of the model."
   ]
  }
 ],
 "metadata": {
  "celltoolbar": "Raw Cell Format",
  "kernelspec": {
   "display_name": "Python 2",
   "language": "python",
   "name": "python2"
  },
  "language_info": {
   "codemirror_mode": {
    "name": "ipython",
    "version": 2
   },
   "file_extension": ".py",
   "mimetype": "text/x-python",
   "name": "python",
   "nbconvert_exporter": "python",
   "pygments_lexer": "ipython2",
   "version": "2.7.11"
  }
 },
 "nbformat": 4,
 "nbformat_minor": 0
}
